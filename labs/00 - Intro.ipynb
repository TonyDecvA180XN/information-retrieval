{
 "cells": [
  {
   "cell_type": "markdown",
   "id": "95edd0c6-b44e-40d6-9e9c-48f42ddd5207",
   "metadata": {},
   "source": [
    "# 0. Installing course dependencies"
   ]
  },
  {
   "cell_type": "code",
   "execution_count": 1,
   "id": "7ae1d575-f278-450f-aa6f-d99e075a79e5",
   "metadata": {},
   "outputs": [
    {
     "name": "stdout",
     "output_type": "stream",
     "text": [
      "Requirement already satisfied: annoy~=1.17.0 in c:\\libraries\\python\\3.9.6\\lib\\site-packages (from -r ../requirements.txt (line 2)) (1.17.0)\n",
      "Collecting argparse~=1.4.0\n",
      "  Using cached argparse-1.4.0-py2.py3-none-any.whl (23 kB)\n",
      "Requirement already satisfied: bs4~=0.0.1 in c:\\libraries\\python\\3.9.6\\lib\\site-packages (from -r ../requirements.txt (line 4)) (0.0.1)\n",
      "Requirement already satisfied: feedparser~=6.0.8 in c:\\libraries\\python\\3.9.6\\lib\\site-packages (from -r ../requirements.txt (line 5)) (6.0.8)\n",
      "Requirement already satisfied: hnswlib in c:\\libraries\\python\\3.9.6\\lib\\site-packages (from -r ../requirements.txt (line 6)) (0.6.0)\n",
      "Requirement already satisfied: jsonlines~=3.0.0 in c:\\libraries\\python\\3.9.6\\lib\\site-packages (from -r ../requirements.txt (line 7)) (3.0.0)\n",
      "Requirement already satisfied: librosa in c:\\libraries\\python\\3.9.6\\lib\\site-packages (from -r ../requirements.txt (line 8)) (0.8.1)\n",
      "Requirement already satisfied: matplotlib in c:\\libraries\\python\\3.9.6\\lib\\site-packages (from -r ../requirements.txt (line 9)) (3.5.1)\n",
      "Requirement already satisfied: nltk in c:\\libraries\\python\\3.9.6\\lib\\site-packages (from -r ../requirements.txt (line 10)) (3.6.7)\n",
      "Requirement already satisfied: numpy>=1.15 in c:\\libraries\\python\\3.9.6\\lib\\site-packages (from -r ../requirements.txt (line 11)) (1.21.5)\n",
      "Requirement already satisfied: opencv-contrib-python in c:\\libraries\\python\\3.9.6\\lib\\site-packages (from -r ../requirements.txt (line 12)) (4.5.5.62)\n",
      "Requirement already satisfied: opencv-python in c:\\libraries\\python\\3.9.6\\lib\\site-packages (from -r ../requirements.txt (line 13)) (4.5.5.62)\n",
      "Requirement already satisfied: pandas in c:\\libraries\\python\\3.9.6\\lib\\site-packages (from -r ../requirements.txt (line 14)) (1.3.5)\n",
      "Requirement already satisfied: pygtrie~=2.4.2 in c:\\libraries\\python\\3.9.6\\lib\\site-packages (from -r ../requirements.txt (line 15)) (2.4.2)\n",
      "Requirement already satisfied: requests~=2.25.1 in c:\\libraries\\python\\3.9.6\\lib\\site-packages (from -r ../requirements.txt (line 16)) (2.25.1)\n",
      "Requirement already satisfied: scikit-learn in c:\\libraries\\python\\3.9.6\\lib\\site-packages (from -r ../requirements.txt (line 17)) (1.0.2)\n",
      "Requirement already satisfied: scipy in c:\\libraries\\python\\3.9.6\\lib\\site-packages (from -r ../requirements.txt (line 18)) (1.7.3)\n",
      "Requirement already satisfied: selenium~=4.1.0 in c:\\libraries\\python\\3.9.6\\lib\\site-packages (from -r ../requirements.txt (line 19)) (4.1.0)\n",
      "Requirement already satisfied: spacy in c:\\libraries\\python\\3.9.6\\lib\\site-packages (from -r ../requirements.txt (line 20)) (3.2.1)\n",
      "Requirement already satisfied: spacy-transformers in c:\\libraries\\python\\3.9.6\\lib\\site-packages (from -r ../requirements.txt (line 21)) (1.1.4)\n",
      "Requirement already satisfied: tqdm in c:\\libraries\\python\\3.9.6\\lib\\site-packages (from -r ../requirements.txt (line 22)) (4.62.3)\n",
      "Requirement already satisfied: beautifulsoup4 in c:\\libraries\\python\\3.9.6\\lib\\site-packages (from bs4~=0.0.1->-r ../requirements.txt (line 4)) (4.10.0)\n",
      "Requirement already satisfied: sgmllib3k in c:\\libraries\\python\\3.9.6\\lib\\site-packages (from feedparser~=6.0.8->-r ../requirements.txt (line 5)) (1.0.0)\n",
      "Requirement already satisfied: attrs>=19.2.0 in c:\\libraries\\python\\3.9.6\\lib\\site-packages (from jsonlines~=3.0.0->-r ../requirements.txt (line 7)) (21.4.0)\n",
      "Requirement already satisfied: numba>=0.43.0 in c:\\libraries\\python\\3.9.6\\lib\\site-packages (from librosa->-r ../requirements.txt (line 8)) (0.55.0)\n",
      "Requirement already satisfied: pooch>=1.0 in c:\\libraries\\python\\3.9.6\\lib\\site-packages (from librosa->-r ../requirements.txt (line 8)) (1.5.2)\n",
      "Requirement already satisfied: resampy>=0.2.2 in c:\\libraries\\python\\3.9.6\\lib\\site-packages (from librosa->-r ../requirements.txt (line 8)) (0.2.2)\n",
      "Requirement already satisfied: soundfile>=0.10.2 in c:\\libraries\\python\\3.9.6\\lib\\site-packages (from librosa->-r ../requirements.txt (line 8)) (0.10.3.post1)\n",
      "Requirement already satisfied: decorator>=3.0.0 in c:\\libraries\\python\\3.9.6\\lib\\site-packages (from librosa->-r ../requirements.txt (line 8)) (5.1.1)\n",
      "Requirement already satisfied: audioread>=2.0.0 in c:\\libraries\\python\\3.9.6\\lib\\site-packages (from librosa->-r ../requirements.txt (line 8)) (2.1.9)\n",
      "Requirement already satisfied: joblib>=0.14 in c:\\libraries\\python\\3.9.6\\lib\\site-packages (from librosa->-r ../requirements.txt (line 8)) (1.1.0)\n",
      "Requirement already satisfied: packaging>=20.0 in c:\\libraries\\python\\3.9.6\\lib\\site-packages (from librosa->-r ../requirements.txt (line 8)) (21.3)\n",
      "Requirement already satisfied: kiwisolver>=1.0.1 in c:\\libraries\\python\\3.9.6\\lib\\site-packages (from matplotlib->-r ../requirements.txt (line 9)) (1.3.2)\n",
      "Requirement already satisfied: python-dateutil>=2.7 in c:\\libraries\\python\\3.9.6\\lib\\site-packages (from matplotlib->-r ../requirements.txt (line 9)) (2.8.2)\n",
      "Requirement already satisfied: pyparsing>=2.2.1 in c:\\libraries\\python\\3.9.6\\lib\\site-packages (from matplotlib->-r ../requirements.txt (line 9)) (3.0.6)\n",
      "Requirement already satisfied: fonttools>=4.22.0 in c:\\libraries\\python\\3.9.6\\lib\\site-packages (from matplotlib->-r ../requirements.txt (line 9)) (4.28.5)\n",
      "Requirement already satisfied: cycler>=0.10 in c:\\libraries\\python\\3.9.6\\lib\\site-packages (from matplotlib->-r ../requirements.txt (line 9)) (0.11.0)\n",
      "Requirement already satisfied: pillow>=6.2.0 in c:\\libraries\\python\\3.9.6\\lib\\site-packages (from matplotlib->-r ../requirements.txt (line 9)) (9.0.0)\n",
      "Requirement already satisfied: regex>=2021.8.3 in c:\\libraries\\python\\3.9.6\\lib\\site-packages (from nltk->-r ../requirements.txt (line 10)) (2021.11.10)\n",
      "Requirement already satisfied: click in c:\\libraries\\python\\3.9.6\\lib\\site-packages (from nltk->-r ../requirements.txt (line 10)) (8.0.3)\n",
      "Requirement already satisfied: pytz>=2017.3 in c:\\libraries\\python\\3.9.6\\lib\\site-packages (from pandas->-r ../requirements.txt (line 14)) (2021.3)\n",
      "Requirement already satisfied: idna<3,>=2.5 in c:\\libraries\\python\\3.9.6\\lib\\site-packages (from requests~=2.25.1->-r ../requirements.txt (line 16)) (2.10)\n",
      "Requirement already satisfied: urllib3<1.27,>=1.21.1 in c:\\libraries\\python\\3.9.6\\lib\\site-packages (from requests~=2.25.1->-r ../requirements.txt (line 16)) (1.26.8)\n",
      "Requirement already satisfied: chardet<5,>=3.0.2 in c:\\libraries\\python\\3.9.6\\lib\\site-packages (from requests~=2.25.1->-r ../requirements.txt (line 16)) (4.0.0)\n",
      "Requirement already satisfied: certifi>=2017.4.17 in c:\\libraries\\python\\3.9.6\\lib\\site-packages (from requests~=2.25.1->-r ../requirements.txt (line 16)) (2021.10.8)\n",
      "Requirement already satisfied: threadpoolctl>=2.0.0 in c:\\libraries\\python\\3.9.6\\lib\\site-packages (from scikit-learn->-r ../requirements.txt (line 17)) (3.0.0)\n",
      "Requirement already satisfied: trio-websocket~=0.9 in c:\\libraries\\python\\3.9.6\\lib\\site-packages (from selenium~=4.1.0->-r ../requirements.txt (line 19)) (0.9.2)\n",
      "Requirement already satisfied: trio~=0.17 in c:\\libraries\\python\\3.9.6\\lib\\site-packages (from selenium~=4.1.0->-r ../requirements.txt (line 19)) (0.19.0)\n",
      "Requirement already satisfied: catalogue<2.1.0,>=2.0.6 in c:\\libraries\\python\\3.9.6\\lib\\site-packages (from spacy->-r ../requirements.txt (line 20)) (2.0.6)\n",
      "Requirement already satisfied: preshed<3.1.0,>=3.0.2 in c:\\libraries\\python\\3.9.6\\lib\\site-packages (from spacy->-r ../requirements.txt (line 20)) (3.0.6)\n",
      "Requirement already satisfied: langcodes<4.0.0,>=3.2.0 in c:\\libraries\\python\\3.9.6\\lib\\site-packages (from spacy->-r ../requirements.txt (line 20)) (3.3.0)\n",
      "Requirement already satisfied: spacy-loggers<2.0.0,>=1.0.0 in c:\\libraries\\python\\3.9.6\\lib\\site-packages (from spacy->-r ../requirements.txt (line 20)) (1.0.1)\n",
      "Requirement already satisfied: blis<0.8.0,>=0.4.0 in c:\\libraries\\python\\3.9.6\\lib\\site-packages (from spacy->-r ../requirements.txt (line 20)) (0.7.5)\n",
      "Requirement already satisfied: cymem<2.1.0,>=2.0.2 in c:\\libraries\\python\\3.9.6\\lib\\site-packages (from spacy->-r ../requirements.txt (line 20)) (2.0.6)\n",
      "Requirement already satisfied: jinja2 in c:\\libraries\\python\\3.9.6\\lib\\site-packages (from spacy->-r ../requirements.txt (line 20)) (3.0.3)\n",
      "Requirement already satisfied: thinc<8.1.0,>=8.0.12 in c:\\libraries\\python\\3.9.6\\lib\\site-packages (from spacy->-r ../requirements.txt (line 20)) (8.0.13)\n",
      "Requirement already satisfied: spacy-legacy<3.1.0,>=3.0.8 in c:\\libraries\\python\\3.9.6\\lib\\site-packages (from spacy->-r ../requirements.txt (line 20)) (3.0.8)\n",
      "Requirement already satisfied: pydantic!=1.8,!=1.8.1,<1.9.0,>=1.7.4 in c:\\libraries\\python\\3.9.6\\lib\\site-packages (from spacy->-r ../requirements.txt (line 20)) (1.8.2)\n",
      "Requirement already satisfied: wasabi<1.1.0,>=0.8.1 in c:\\libraries\\python\\3.9.6\\lib\\site-packages (from spacy->-r ../requirements.txt (line 20)) (0.9.0)\n",
      "Requirement already satisfied: pathy>=0.3.5 in c:\\libraries\\python\\3.9.6\\lib\\site-packages (from spacy->-r ../requirements.txt (line 20)) (0.6.1)\n",
      "Requirement already satisfied: typer<0.5.0,>=0.3.0 in c:\\libraries\\python\\3.9.6\\lib\\site-packages (from spacy->-r ../requirements.txt (line 20)) (0.4.0)\n",
      "Requirement already satisfied: murmurhash<1.1.0,>=0.28.0 in c:\\libraries\\python\\3.9.6\\lib\\site-packages (from spacy->-r ../requirements.txt (line 20)) (1.0.6)\n",
      "Requirement already satisfied: srsly<3.0.0,>=2.4.1 in c:\\libraries\\python\\3.9.6\\lib\\site-packages (from spacy->-r ../requirements.txt (line 20)) (2.4.2)\n",
      "Requirement already satisfied: setuptools in c:\\libraries\\python\\3.9.6\\lib\\site-packages (from spacy->-r ../requirements.txt (line 20)) (59.2.0)\n",
      "Requirement already satisfied: spacy-alignments<1.0.0,>=0.7.2 in c:\\libraries\\python\\3.9.6\\lib\\site-packages (from spacy-transformers->-r ../requirements.txt (line 21)) (0.8.4)\n",
      "Requirement already satisfied: torch>=1.6.0 in c:\\libraries\\python\\3.9.6\\lib\\site-packages (from spacy-transformers->-r ../requirements.txt (line 21)) (1.10.1)\n",
      "Requirement already satisfied: transformers<4.16.0,>=3.4.0 in c:\\libraries\\python\\3.9.6\\lib\\site-packages (from spacy-transformers->-r ../requirements.txt (line 21)) (4.15.0)\n",
      "Requirement already satisfied: colorama in c:\\libraries\\python\\3.9.6\\lib\\site-packages (from tqdm->-r ../requirements.txt (line 22)) (0.4.4)\n",
      "Requirement already satisfied: llvmlite<0.39,>=0.38.0rc1 in c:\\libraries\\python\\3.9.6\\lib\\site-packages (from numba>=0.43.0->librosa->-r ../requirements.txt (line 8)) (0.38.0)\n",
      "Requirement already satisfied: smart-open<6.0.0,>=5.0.0 in c:\\libraries\\python\\3.9.6\\lib\\site-packages (from pathy>=0.3.5->spacy->-r ../requirements.txt (line 20)) (5.2.1)\n",
      "Requirement already satisfied: appdirs in c:\\libraries\\python\\3.9.6\\lib\\site-packages (from pooch>=1.0->librosa->-r ../requirements.txt (line 8)) (1.4.4)\n",
      "Requirement already satisfied: typing-extensions>=3.7.4.3 in c:\\libraries\\python\\3.9.6\\lib\\site-packages (from pydantic!=1.8,!=1.8.1,<1.9.0,>=1.7.4->spacy->-r ../requirements.txt (line 20)) (4.0.1)\n",
      "Requirement already satisfied: six>=1.5 in c:\\libraries\\python\\3.9.6\\lib\\site-packages (from python-dateutil>=2.7->matplotlib->-r ../requirements.txt (line 9)) (1.16.0)\n",
      "Requirement already satisfied: cffi>=1.0 in c:\\libraries\\python\\3.9.6\\lib\\site-packages (from soundfile>=0.10.2->librosa->-r ../requirements.txt (line 8)) (1.15.0)\n",
      "Requirement already satisfied: tokenizers<0.11,>=0.10.1 in c:\\libraries\\python\\3.9.6\\lib\\site-packages (from transformers<4.16.0,>=3.4.0->spacy-transformers->-r ../requirements.txt (line 21)) (0.10.3)\n",
      "Requirement already satisfied: pyyaml>=5.1 in c:\\libraries\\python\\3.9.6\\lib\\site-packages (from transformers<4.16.0,>=3.4.0->spacy-transformers->-r ../requirements.txt (line 21)) (6.0)\n",
      "Requirement already satisfied: huggingface-hub<1.0,>=0.1.0 in c:\\libraries\\python\\3.9.6\\lib\\site-packages (from transformers<4.16.0,>=3.4.0->spacy-transformers->-r ../requirements.txt (line 21)) (0.4.0)\n",
      "Requirement already satisfied: filelock in c:\\libraries\\python\\3.9.6\\lib\\site-packages (from transformers<4.16.0,>=3.4.0->spacy-transformers->-r ../requirements.txt (line 21)) (3.4.2)\n",
      "Requirement already satisfied: sacremoses in c:\\libraries\\python\\3.9.6\\lib\\site-packages (from transformers<4.16.0,>=3.4.0->spacy-transformers->-r ../requirements.txt (line 21)) (0.0.47)\n",
      "Requirement already satisfied: sniffio in c:\\libraries\\python\\3.9.6\\lib\\site-packages (from trio~=0.17->selenium~=4.1.0->-r ../requirements.txt (line 19)) (1.2.0)\n",
      "Requirement already satisfied: outcome in c:\\libraries\\python\\3.9.6\\lib\\site-packages (from trio~=0.17->selenium~=4.1.0->-r ../requirements.txt (line 19)) (1.1.0)\n",
      "Requirement already satisfied: async-generator>=1.9 in c:\\libraries\\python\\3.9.6\\lib\\site-packages (from trio~=0.17->selenium~=4.1.0->-r ../requirements.txt (line 19)) (1.10)\n",
      "Requirement already satisfied: sortedcontainers in c:\\libraries\\python\\3.9.6\\lib\\site-packages (from trio~=0.17->selenium~=4.1.0->-r ../requirements.txt (line 19)) (2.4.0)\n",
      "Requirement already satisfied: wsproto>=0.14 in c:\\libraries\\python\\3.9.6\\lib\\site-packages (from trio-websocket~=0.9->selenium~=4.1.0->-r ../requirements.txt (line 19)) (1.0.0)\n",
      "Requirement already satisfied: pyOpenSSL>=0.14 in c:\\libraries\\python\\3.9.6\\lib\\site-packages (from urllib3<1.27,>=1.21.1->requests~=2.25.1->-r ../requirements.txt (line 16)) (21.0.0)\n",
      "Requirement already satisfied: cryptography>=1.3.4 in c:\\libraries\\python\\3.9.6\\lib\\site-packages (from urllib3<1.27,>=1.21.1->requests~=2.25.1->-r ../requirements.txt (line 16)) (36.0.1)\n",
      "Requirement already satisfied: soupsieve>1.2 in c:\\libraries\\python\\3.9.6\\lib\\site-packages (from beautifulsoup4->bs4~=0.0.1->-r ../requirements.txt (line 4)) (2.3.1)\n",
      "Requirement already satisfied: MarkupSafe>=2.0 in c:\\libraries\\python\\3.9.6\\lib\\site-packages (from jinja2->spacy->-r ../requirements.txt (line 20)) (2.0.1)\n",
      "Requirement already satisfied: pycparser in c:\\libraries\\python\\3.9.6\\lib\\site-packages (from cffi>=1.0->soundfile>=0.10.2->librosa->-r ../requirements.txt (line 8)) (2.21)\n",
      "Requirement already satisfied: h11<1,>=0.9.0 in c:\\libraries\\python\\3.9.6\\lib\\site-packages (from wsproto>=0.14->trio-websocket~=0.9->selenium~=4.1.0->-r ../requirements.txt (line 19)) (0.12.0)\n",
      "Installing collected packages: argparse\n",
      "Successfully installed argparse-1.4.0\n"
     ]
    }
   ],
   "source": [
    "!pip install -r ../requirements.txt"
   ]
  },
  {
   "cell_type": "code",
   "execution_count": 3,
   "id": "4f337db2-7f6a-4520-b51e-f38f064ed599",
   "metadata": {},
   "outputs": [
    {
     "name": "stderr",
     "output_type": "stream",
     "text": [
      "'conda' is not recognized as an internal or external command,\n",
      "operable program or batch file.\n"
     ]
    }
   ],
   "source": [
    "!conda install -c conda-forge ffmpeg -y"
   ]
  },
  {
   "cell_type": "markdown",
   "id": "06c2f0dd-1d63-412c-ae93-2f012c3d8f0c",
   "metadata": {},
   "source": [
    "Run the next cell if you want to download embedding model, but this is not required during this lab. You can do it later."
   ]
  },
  {
   "cell_type": "code",
   "execution_count": 4,
   "id": "74fa01d2-dd4d-48d4-a27b-9ae610d9e7ab",
   "metadata": {},
   "outputs": [
    {
     "name": "stdout",
     "output_type": "stream",
     "text": [
      "\n",
      "✘ No compatible package found for 'en_trf_distilbertbaseuncased_lg' (spaCy\n",
      "v3.2.1)\n",
      "\n"
     ]
    }
   ],
   "source": [
    "!python -m spacy download en_trf_distilbertbaseuncased_lg"
   ]
  },
  {
   "cell_type": "markdown",
   "id": "4ef7bedc-d559-437e-b106-12c860acfbab",
   "metadata": {},
   "source": [
    "# 1. Touching the Internet\n",
    "\n",
    "Solve the following task. Download [this page](https://raw.githubusercontent.com/IUCVLab/information-retrieval/main/datasets/facts.txt), and save it to the file with the name derived from the URL. File with another URL should not be save into the file with this name. E.g. [this file](https://github.com/IUCVLab/information-retrieval/blob/main/datasets/facts.txt).\n",
    "\n",
    "Ref: [requests](https://docs.python-requests.org/en/latest/) library is cool."
   ]
  },
  {
   "cell_type": "code",
   "execution_count": 12,
   "id": "639fb2d7-d577-4ae6-beb4-2487213024cf",
   "metadata": {},
   "outputs": [
    {
     "data": {
      "text/plain": [
       "13160"
      ]
     },
     "execution_count": 12,
     "metadata": {},
     "output_type": "execute_result"
    }
   ],
   "source": [
    "import requests\n",
    "\n",
    "url = \"https://raw.githubusercontent.com/IUCVLab/information-retrieval/main/datasets/facts.txt\"\n",
    "\n",
    "# TODO: download and save to a file\n",
    "request = requests.get(url)\n",
    "open(\"facts.txt\", 'wb').write(request.content)"
   ]
  },
  {
   "cell_type": "markdown",
   "id": "c7601aaf-3534-42cd-bb33-665d2d92c79d",
   "metadata": {},
   "source": [
    "# 2. Parsing different formats\n",
    "\n",
    "Most probably, if you meet something in Internet, this is: binary, plain text, XML, or json. XML also splits into xHTML, RSS, Atom, SOAP, XML-RPC, ... . Your task is to learn, how to process different formats.\n",
    "\n",
    "## 2.1. JSON\n",
    "\n",
    "In [the given file](http://sprotasov.ru/data/postnauka.txt) there is valid json. Parse it and print all video URLs, which have `computer science` tag. Use built-in features of `requests`, or just a `json` library ([ref](https://docs.python.org/3/library/json.html))."
   ]
  },
  {
   "cell_type": "code",
   "execution_count": 13,
   "id": "628c2c18-b896-40f9-bac9-2fefc5027da1",
   "metadata": {},
   "outputs": [
    {
     "name": "stdout",
     "output_type": "stream",
     "text": [
      "http://postnauka.ru/talks/31897\n",
      "http://postnauka.ru/video/24306\n",
      "http://postnauka.ru/faq/46974\n"
     ]
    }
   ],
   "source": [
    "import json\n",
    "import requests\n",
    "\n",
    "# TODO. Your code here\n",
    "url = \"http://sprotasov.ru/data/postnauka.txt\"\n",
    "\n",
    "request = requests.get(url)\n",
    "\n",
    "document = json.loads(request.content)\n",
    "\n",
    "for record in document:\n",
    "    if \"computer science\" in record[\"tags\"]:\n",
    "        print(record[\"url\"])\n"
   ]
  },
  {
   "cell_type": "markdown",
   "id": "a97530a0-46d4-47e3-a7bb-ca479680007d",
   "metadata": {},
   "source": [
    "## 2.2. HTML\n",
    "\n",
    "For a given StackExchange answer extract logins of the contributors (who asked and who answered) with votes. [bs4](https://beautiful-soup-4.readthedocs.io/en/latest/) will help you to do the job.\n",
    "\n",
    "I can recommend to use CSS or XPath selectors. `div` elements with `post-layout` class represent answers. Inside there are `div` with `votecell` class stroring votes number and `div` with class `user-details` storing user info. My personal recommendation is to use `css selectors`, which are [documented here](https://beautiful-soup-4.readthedocs.io/en/latest/#css-selectors)."
   ]
  },
  {
   "cell_type": "code",
   "execution_count": 14,
   "id": "e67db473-a8f0-414c-adbc-ce0e9e4710bc",
   "metadata": {},
   "outputs": [
    {
     "name": "stdout",
     "output_type": "stream",
     "text": [
      "https://math.stackexchange.com/questions/411486/understanding-the-singular-value-decomposition-svd\n",
      "Contributor \"Celdor\" has 20 votes.\n",
      "Contributor \"Ittay Weiss\" has 16 votes.\n",
      "Contributor \"Tomasz Bartkowiak\" has 8 votes.\n",
      "Contributor \"Bart Vanderbeke\" has 4 votes.\n",
      "Contributor \"Bart Vanderbeke\" has 3 votes.\n",
      "Contributor \"hgfei\" has 2 votes.\n",
      "Contributor \"littleO\" has 1 votes.\n",
      "Contributor \"TheSHETTY-Paradise\" has 1 votes.\n"
     ]
    }
   ],
   "source": [
    "import requests\n",
    "from bs4 import BeautifulSoup\n",
    "\n",
    "url = f\"https://math.stackexchange.com/questions/411486/understanding-the-singular-value-decomposition-svd\"\n",
    "print(url)\n",
    "\n",
    "# TODO. Your code here should parse HTML source page and find contributors of the repository.\n",
    "request = requests.get(url)\n",
    "document = BeautifulSoup(request.content)\n",
    "\n",
    "for vote_count in document.find_all(\"div\", {\"class\" : \"js-vote-count\"}):\n",
    "    # vote count is 3rd generation child of every post\n",
    "    post_layout = vote_count.parent.parent.parent\n",
    "    author_user_details = post_layout.find(\"div\", {\"class\" : \"user-details\", \"itemprop\" : \"author\"})\n",
    "    name = author_user_details.a.string\n",
    "\n",
    "    score = vote_count.string.strip()\n",
    "\n",
    "    print(f\"Contributor \\\"{name}\\\" has {score} votes.\")\n"
   ]
  },
  {
   "cell_type": "markdown",
   "id": "6708766b-0db3-4062-87a1-9ba96c60440b",
   "metadata": {},
   "source": [
    "# 2.3. RSS feed\n",
    "\n",
    "A lot of information is already organized in typed XML documents. Podcasts are just RSS feed. Parse [the feed of this podcast](http://sprotasov.ru/podcast/rss.xml) and print out the time span between the first and the last episodes. Use [`feedparser` for this](https://waylonwalker.com/parsing-rss-python/)."
   ]
  },
  {
   "cell_type": "code",
   "execution_count": 26,
   "id": "2090f810-d706-4bb2-8c85-d485a48432a1",
   "metadata": {},
   "outputs": [
    {
     "name": "stdout",
     "output_type": "stream",
     "text": [
      "Total time: 4:36:49.\n"
     ]
    }
   ],
   "source": [
    "import feedparser\n",
    "import datetime\n",
    "rss = 'http://sprotasov.ru/podcast/rss.xml'\n",
    "feed = feedparser.parse(rss) \n",
    "\n",
    "# TODO: complete the code to compute the time span of all the episodes.\n",
    "total_time = datetime.timedelta()\n",
    "\n",
    "for entry in feed[\"entries\"]:\n",
    "    h, m, s = entry[\"itunes_duration\"].split(\":\")\n",
    "    total_time += datetime.timedelta(hours = int(h), minutes = int(m), seconds = int(s))\n",
    "\n",
    "print(f\"Total time: {total_time}.\")"
   ]
  },
  {
   "cell_type": "markdown",
   "id": "3a7a63b1-c106-4a13-8e55-9240e9c8418f",
   "metadata": {},
   "source": [
    "# 3. Solving simple information retrieval task\n",
    "\n",
    "According to the name, `information retrieval` is the discipline, which helps retrieves information (from unstructured sources). Thus, we will retrieve some information from [this news article](https://www.bbc.com/news/world-us-canada-59944889). Your task is to write a code, which will answer the question: **How many people die every day in the US waiting for a transplant?** Write flexible enough code. Test yourself by changing the link to [this one](https://www.americantransplantfoundation.org/about-transplant/facts-and-myths/)."
   ]
  },
  {
   "cell_type": "code",
   "execution_count": 60,
   "id": "7660c706-371b-4050-aede-e4b3e4014ce1",
   "metadata": {},
   "outputs": [
    {
     "name": "stdout",
     "output_type": "stream",
     "text": [
      "Question: How many people die every day in the US waiting for a transplant?\n",
      "Answer:  On average, 17 people die every day from the lack of available organs for transplant.\n",
      "Score: 31.58%.\n"
     ]
    }
   ],
   "source": [
    "import requests\n",
    "from bs4 import BeautifulSoup\n",
    "url = 'https://www.bbc.com/news/world-us-canada-59944889'\n",
    "url2 = \"https://www.americantransplantfoundation.org/about-transplant/facts-and-myths/\"\n",
    "question = 'How many people die every day in the US waiting for a transplant?'\n",
    "\n",
    "# TODO. Impress me!\n",
    "request = requests.get(url2)\n",
    "soup = BeautifulSoup(request.content)\n",
    "\n",
    "# Calculates how similar are two sentences\n",
    "def GetSimilarityScore(sentence, baseline):\n",
    "    match_count = 0\n",
    "    base_words = baseline.split()\n",
    "    sentence_words = sentence.split()\n",
    "\n",
    "    if len(sentence_words) > 0:\n",
    "        for word in sentence_words:\n",
    "            if word in base_words:\n",
    "                match_count += 1\n",
    "        return match_count / len(sentence_words)\n",
    "    return 0\n",
    "\n",
    "question_low = question.lower()\n",
    "max_score = 0\n",
    "answer = \"Not found\"\n",
    "for sentence in soup.get_text(\" <|> \", strip = True).split(\".\"):\n",
    "    match_count = GetSimilarityScore(sentence.lower(), question_low)\n",
    "    if match_count > max_score:\n",
    "        max_score = match_count\n",
    "        answer = sentence.replace(\" <|> \", \" \") + \".\"\n",
    "\n",
    "print(f\"Question: {question}\")\n",
    "print(f\"Answer: {answer}\")\n",
    "print(f\"Score: {max_score * 100:.02f}%.\")"
   ]
  },
  {
   "cell_type": "code",
   "execution_count": null,
   "id": "62d2e9f9-5fea-4909-888e-fa15d2af08d6",
   "metadata": {},
   "outputs": [],
   "source": []
  }
 ],
 "metadata": {
  "kernelspec": {
   "display_name": "Python 3 (ipykernel)",
   "language": "python",
   "name": "python3"
  },
  "language_info": {
   "codemirror_mode": {
    "name": "ipython",
    "version": 3
   },
   "file_extension": ".py",
   "mimetype": "text/x-python",
   "name": "python",
   "nbconvert_exporter": "python",
   "pygments_lexer": "ipython3",
   "version": "3.9.6"
  }
 },
 "nbformat": 4,
 "nbformat_minor": 5
}
